{
  "nbformat": 4,
  "nbformat_minor": 0,
  "metadata": {
    "colab": {
      "name": "retrieve_stock_prices.ipynb",
      "provenance": [],
      "collapsed_sections": [],
      "toc_visible": true
    },
    "kernelspec": {
      "name": "python3",
      "display_name": "Python 3"
    }
  },
  "cells": [
    {
      "cell_type": "markdown",
      "metadata": {
        "id": "pnSEjkSZ1X3q",
        "colab_type": "text"
      },
      "source": [
        "# Retrieve Stock Prices"
      ]
    },
    {
      "cell_type": "markdown",
      "metadata": {
        "id": "yDCzkbxR48Yq",
        "colab_type": "text"
      },
      "source": [
        "## Load Crawled Data and Build Dataframe"
      ]
    },
    {
      "cell_type": "markdown",
      "metadata": {
        "id": "-Q_0q-7U2dgE",
        "colab_type": "text"
      },
      "source": [
        "### Libraries"
      ]
    },
    {
      "cell_type": "code",
      "metadata": {
        "id": "O0GYyfMuUTaJ",
        "colab_type": "code",
        "outputId": "8a39bc03-d056-41ad-ff0f-fff54f689433",
        "colab": {
          "base_uri": "https://localhost:8080/",
          "height": 310
        }
      },
      "source": [
        "!pip install yfinance"
      ],
      "execution_count": 0,
      "outputs": [
        {
          "output_type": "stream",
          "text": [
            "Requirement already satisfied: yfinance in /usr/local/lib/python3.6/dist-packages (0.1.54)\n",
            "Requirement already satisfied: multitasking>=0.0.7 in /usr/local/lib/python3.6/dist-packages (from yfinance) (0.0.9)\n",
            "Requirement already satisfied: pandas>=0.24 in /usr/local/lib/python3.6/dist-packages (from yfinance) (0.25.3)\n",
            "Requirement already satisfied: requests>=2.20 in /usr/local/lib/python3.6/dist-packages (from yfinance) (2.21.0)\n",
            "Requirement already satisfied: numpy>=1.15 in /usr/local/lib/python3.6/dist-packages (from yfinance) (1.18.2)\n",
            "Requirement already satisfied: python-dateutil>=2.6.1 in /usr/local/lib/python3.6/dist-packages (from pandas>=0.24->yfinance) (2.8.1)\n",
            "Requirement already satisfied: pytz>=2017.2 in /usr/local/lib/python3.6/dist-packages (from pandas>=0.24->yfinance) (2018.9)\n",
            "Requirement already satisfied: idna<2.9,>=2.5 in /usr/local/lib/python3.6/dist-packages (from requests>=2.20->yfinance) (2.8)\n",
            "Requirement already satisfied: chardet<3.1.0,>=3.0.2 in /usr/local/lib/python3.6/dist-packages (from requests>=2.20->yfinance) (3.0.4)\n",
            "Requirement already satisfied: urllib3<1.25,>=1.21.1 in /usr/local/lib/python3.6/dist-packages (from requests>=2.20->yfinance) (1.24.3)\n",
            "Requirement already satisfied: certifi>=2017.4.17 in /usr/local/lib/python3.6/dist-packages (from requests>=2.20->yfinance) (2019.11.28)\n",
            "Requirement already satisfied: six>=1.5 in /usr/local/lib/python3.6/dist-packages (from python-dateutil>=2.6.1->pandas>=0.24->yfinance) (1.12.0)\n"
          ],
          "name": "stdout"
        }
      ]
    },
    {
      "cell_type": "code",
      "metadata": {
        "id": "f_DRmlGn1nag",
        "colab_type": "code",
        "colab": {}
      },
      "source": [
        "import os\n",
        "from google.colab import drive\n",
        "import json\n",
        "import pandas as pd\n",
        "from datetime import datetime\n",
        "from collections import Counter, defaultdict\n",
        "import numpy as np \n",
        "from tqdm import tqdm\n",
        "import matplotlib.pyplot as plt\n",
        "from matplotlib.pyplot import figure\n",
        "import matplotlib\n",
        "import matplotlib.dates as mdates\n",
        "from textblob import TextBlob\n",
        "import yfinance as yf\n",
        "from pandas_datareader import data as pdr\n",
        "import pickle\n",
        "from datetime import timedelta, date, datetime\n",
        "from tqdm import tqdm"
      ],
      "execution_count": 0,
      "outputs": []
    },
    {
      "cell_type": "markdown",
      "metadata": {
        "id": "G2GV42eO2foA",
        "colab_type": "text"
      },
      "source": [
        "### Mounting (need to copy data to own Google Drive)"
      ]
    },
    {
      "cell_type": "code",
      "metadata": {
        "id": "zquKFh9TyJ5l",
        "colab_type": "code",
        "outputId": "94f2cdf2-60f7-48c6-8d13-8bda5f684e33",
        "colab": {
          "base_uri": "https://localhost:8080/",
          "height": 74
        }
      },
      "source": [
        "drive.mount('/content/gdrive')"
      ],
      "execution_count": 0,
      "outputs": [
        {
          "output_type": "stream",
          "text": [
            "Drive already mounted at /content/gdrive; to attempt to forcibly remount, call drive.mount(\"/content/gdrive\", force_remount=True).\n"
          ],
          "name": "stdout"
        }
      ]
    },
    {
      "cell_type": "markdown",
      "metadata": {
        "id": "Y8ozUsX6TgjI",
        "colab_type": "text"
      },
      "source": [
        "### SIC Alpha Ratings"
      ]
    },
    {
      "cell_type": "code",
      "metadata": {
        "id": "Ts-fLLd9zi3D",
        "colab_type": "code",
        "outputId": "dbdf705e-26c2-4e60-d64f-0e293b945dc2",
        "colab": {
          "base_uri": "https://localhost:8080/",
          "height": 419
        }
      },
      "source": [
        "file_path = \"gdrive/My Drive/sic-code-rankings-03-23-2020.csv\"\n",
        "\n",
        "df = pd.read_csv(file_path)\n",
        "df = df.drop(65)\n",
        "\n",
        "def split_sic_code(x):\n",
        "  sic_code = x[\"Industry Name\"].split(\" \")[0].split(\"-\")[1]\n",
        "  return sic_code\n",
        "\n",
        "df[\"SIC\"] = df.apply(lambda x: split_sic_code(x), axis = 1)\n",
        "df"
      ],
      "execution_count": 0,
      "outputs": [
        {
          "output_type": "execute_result",
          "data": {
            "text/html": [
              "<div>\n",
              "<style scoped>\n",
              "    .dataframe tbody tr th:only-of-type {\n",
              "        vertical-align: middle;\n",
              "    }\n",
              "\n",
              "    .dataframe tbody tr th {\n",
              "        vertical-align: top;\n",
              "    }\n",
              "\n",
              "    .dataframe thead th {\n",
              "        text-align: right;\n",
              "    }\n",
              "</style>\n",
              "<table border=\"1\" class=\"dataframe\">\n",
              "  <thead>\n",
              "    <tr style=\"text-align: right;\">\n",
              "      <th></th>\n",
              "      <th>Symbol</th>\n",
              "      <th>Industry Name</th>\n",
              "      <th>Wtd Alpha</th>\n",
              "      <th>Wtd. Alpha Change</th>\n",
              "      <th># of Stocks</th>\n",
              "      <th>SIC</th>\n",
              "    </tr>\n",
              "  </thead>\n",
              "  <tbody>\n",
              "    <tr>\n",
              "      <th>0</th>\n",
              "      <td>-005E</td>\n",
              "      <td>SIC-54   Food Stores</td>\n",
              "      <td>-2.82</td>\n",
              "      <td>-2.36</td>\n",
              "      <td>9.0</td>\n",
              "      <td>54</td>\n",
              "    </tr>\n",
              "    <tr>\n",
              "      <th>1</th>\n",
              "      <td>-001A</td>\n",
              "      <td>SIC-10   Metal Mining</td>\n",
              "      <td>-13.86</td>\n",
              "      <td>-5.69</td>\n",
              "      <td>53.0</td>\n",
              "      <td>10</td>\n",
              "    </tr>\n",
              "    <tr>\n",
              "      <th>2</th>\n",
              "      <td>-006E</td>\n",
              "      <td>SIC-64   Insurance Agents, Brokers, And Service</td>\n",
              "      <td>-18.40</td>\n",
              "      <td>-0.97</td>\n",
              "      <td>14.0</td>\n",
              "      <td>64</td>\n",
              "    </tr>\n",
              "    <tr>\n",
              "      <th>3</th>\n",
              "      <td>-008I</td>\n",
              "      <td>SIC-88   Private Households</td>\n",
              "      <td>-21.34</td>\n",
              "      <td>1.02</td>\n",
              "      <td>5.0</td>\n",
              "      <td>88</td>\n",
              "    </tr>\n",
              "    <tr>\n",
              "      <th>4</th>\n",
              "      <td>-008C</td>\n",
              "      <td>SIC-82   Educational Services</td>\n",
              "      <td>-21.93</td>\n",
              "      <td>-0.19</td>\n",
              "      <td>34.0</td>\n",
              "      <td>82</td>\n",
              "    </tr>\n",
              "    <tr>\n",
              "      <th>...</th>\n",
              "      <td>...</td>\n",
              "      <td>...</td>\n",
              "      <td>...</td>\n",
              "      <td>...</td>\n",
              "      <td>...</td>\n",
              "      <td>...</td>\n",
              "    </tr>\n",
              "    <tr>\n",
              "      <th>60</th>\n",
              "      <td>-004G</td>\n",
              "      <td>SIC-46   Pipelines, Except Natural Gas</td>\n",
              "      <td>-60.52</td>\n",
              "      <td>4.61</td>\n",
              "      <td>13.0</td>\n",
              "      <td>46</td>\n",
              "    </tr>\n",
              "    <tr>\n",
              "      <th>61</th>\n",
              "      <td>-003B</td>\n",
              "      <td>SIC-31   Leather And Leather Products</td>\n",
              "      <td>-60.54</td>\n",
              "      <td>-1.03</td>\n",
              "      <td>9.0</td>\n",
              "      <td>31</td>\n",
              "    </tr>\n",
              "    <tr>\n",
              "      <th>62</th>\n",
              "      <td>-002J</td>\n",
              "      <td>SIC-29   Petroleum Refining And Related Indust...</td>\n",
              "      <td>-62.48</td>\n",
              "      <td>-0.25</td>\n",
              "      <td>24.0</td>\n",
              "      <td>29</td>\n",
              "    </tr>\n",
              "    <tr>\n",
              "      <th>63</th>\n",
              "      <td>-001D</td>\n",
              "      <td>SIC-13   Oil And Gas Extraction</td>\n",
              "      <td>-70.69</td>\n",
              "      <td>-0.56</td>\n",
              "      <td>103.0</td>\n",
              "      <td>13</td>\n",
              "    </tr>\n",
              "    <tr>\n",
              "      <th>64</th>\n",
              "      <td>-001C</td>\n",
              "      <td>SIC-12   Coal Mining</td>\n",
              "      <td>-74.79</td>\n",
              "      <td>-2.22</td>\n",
              "      <td>10.0</td>\n",
              "      <td>12</td>\n",
              "    </tr>\n",
              "  </tbody>\n",
              "</table>\n",
              "<p>65 rows × 6 columns</p>\n",
              "</div>"
            ],
            "text/plain": [
              "    Symbol                                      Industry Name  ...  # of Stocks  SIC\n",
              "0    -005E                               SIC-54   Food Stores  ...          9.0   54\n",
              "1    -001A                              SIC-10   Metal Mining  ...         53.0   10\n",
              "2    -006E    SIC-64   Insurance Agents, Brokers, And Service  ...         14.0   64\n",
              "3    -008I                        SIC-88   Private Households  ...          5.0   88\n",
              "4    -008C                      SIC-82   Educational Services  ...         34.0   82\n",
              "..     ...                                                ...  ...          ...  ...\n",
              "60   -004G             SIC-46   Pipelines, Except Natural Gas  ...         13.0   46\n",
              "61   -003B              SIC-31   Leather And Leather Products  ...          9.0   31\n",
              "62   -002J  SIC-29   Petroleum Refining And Related Indust...  ...         24.0   29\n",
              "63   -001D                    SIC-13   Oil And Gas Extraction  ...        103.0   13\n",
              "64   -001C                               SIC-12   Coal Mining  ...         10.0   12\n",
              "\n",
              "[65 rows x 6 columns]"
            ]
          },
          "metadata": {
            "tags": []
          },
          "execution_count": 12
        }
      ]
    },
    {
      "cell_type": "code",
      "metadata": {
        "id": "MNK2YZPyposL",
        "colab_type": "code",
        "colab": {}
      },
      "source": [
        "#df.to_pickle(\"gdrive/My Drive/k_10_corona.pkl\")\n",
        "#df_no_text = df.drop(columns=[\"raw_text\"])\n",
        "df.to_csv(\"gdrive/My Drive/sic_stocks.csv\", encoding = 'utf-8', index=False)"
      ],
      "execution_count": 0,
      "outputs": []
    },
    {
      "cell_type": "markdown",
      "metadata": {
        "id": "90hkTZbekL89",
        "colab_type": "text"
      },
      "source": [
        "## Stock Prices"
      ]
    },
    {
      "cell_type": "code",
      "metadata": {
        "id": "Oc60rNSBg3Pd",
        "colab_type": "code",
        "outputId": "362f68a5-e7bd-4155-a8dc-2aca3514eb4e",
        "colab": {
          "base_uri": "https://localhost:8080/",
          "height": 34
        }
      },
      "source": [
        "df_base = pickle.load(open(\"gdrive/My Drive/k_10_corona.pkl\",mode=\"rb\"))\n",
        "cik = set(df_base.FirmID)\n",
        "print(len(cik))\n",
        "cik = [x.split(\" \")[0] for x in cik]\n",
        "cik = list(map(int, cik))"
      ],
      "execution_count": 0,
      "outputs": [
        {
          "output_type": "stream",
          "text": [
            "1379\n"
          ],
          "name": "stdout"
        }
      ]
    },
    {
      "cell_type": "code",
      "metadata": {
        "id": "cicgEyJSai-f",
        "colab_type": "code",
        "outputId": "dce230b2-28d8-4992-acf5-0e0fe8d55105",
        "colab": {
          "base_uri": "https://localhost:8080/",
          "height": 419
        }
      },
      "source": [
        "file_path = \"gdrive/My Drive/cik_ticker.csv\"\n",
        "\n",
        "df = pd.read_csv(file_path, delimiter= \"|\").reset_index()\n",
        "df = df.drop(columns = [\"Incorporated\", \"IRS\",\"Business\",\"index\"])\n",
        "df"
      ],
      "execution_count": 0,
      "outputs": [
        {
          "output_type": "execute_result",
          "data": {
            "text/html": [
              "<div>\n",
              "<style scoped>\n",
              "    .dataframe tbody tr th:only-of-type {\n",
              "        vertical-align: middle;\n",
              "    }\n",
              "\n",
              "    .dataframe tbody tr th {\n",
              "        vertical-align: top;\n",
              "    }\n",
              "\n",
              "    .dataframe thead th {\n",
              "        text-align: right;\n",
              "    }\n",
              "</style>\n",
              "<table border=\"1\" class=\"dataframe\">\n",
              "  <thead>\n",
              "    <tr style=\"text-align: right;\">\n",
              "      <th></th>\n",
              "      <th>CIK</th>\n",
              "      <th>Ticker</th>\n",
              "      <th>Name</th>\n",
              "      <th>Exchange</th>\n",
              "      <th>SIC</th>\n",
              "    </tr>\n",
              "  </thead>\n",
              "  <tbody>\n",
              "    <tr>\n",
              "      <th>0</th>\n",
              "      <td>1090872</td>\n",
              "      <td>A</td>\n",
              "      <td>Agilent Technologies Inc</td>\n",
              "      <td>NYSE</td>\n",
              "      <td>3825.0</td>\n",
              "    </tr>\n",
              "    <tr>\n",
              "      <th>1</th>\n",
              "      <td>4281</td>\n",
              "      <td>AA</td>\n",
              "      <td>Alcoa Inc</td>\n",
              "      <td>NYSE</td>\n",
              "      <td>3350.0</td>\n",
              "    </tr>\n",
              "    <tr>\n",
              "      <th>2</th>\n",
              "      <td>1332552</td>\n",
              "      <td>AAACU</td>\n",
              "      <td>Asia Automotive Acquisition Corp</td>\n",
              "      <td>NaN</td>\n",
              "      <td>6770.0</td>\n",
              "    </tr>\n",
              "    <tr>\n",
              "      <th>3</th>\n",
              "      <td>1287145</td>\n",
              "      <td>AABB</td>\n",
              "      <td>Asia Broadband Inc</td>\n",
              "      <td>OTC</td>\n",
              "      <td>8200.0</td>\n",
              "    </tr>\n",
              "    <tr>\n",
              "      <th>4</th>\n",
              "      <td>1024015</td>\n",
              "      <td>AABC</td>\n",
              "      <td>Access Anytime Bancorp Inc</td>\n",
              "      <td>NaN</td>\n",
              "      <td>6035.0</td>\n",
              "    </tr>\n",
              "    <tr>\n",
              "      <th>...</th>\n",
              "      <td>...</td>\n",
              "      <td>...</td>\n",
              "      <td>...</td>\n",
              "      <td>...</td>\n",
              "      <td>...</td>\n",
              "    </tr>\n",
              "    <tr>\n",
              "      <th>13732</th>\n",
              "      <td>827056</td>\n",
              "      <td>ZVXI</td>\n",
              "      <td>Zevex International Inc</td>\n",
              "      <td>NaN</td>\n",
              "      <td>3845.0</td>\n",
              "    </tr>\n",
              "    <tr>\n",
              "      <th>13733</th>\n",
              "      <td>846475</td>\n",
              "      <td>ZYNX</td>\n",
              "      <td>Zynex Inc</td>\n",
              "      <td>NaN</td>\n",
              "      <td>3845.0</td>\n",
              "    </tr>\n",
              "    <tr>\n",
              "      <th>13734</th>\n",
              "      <td>1406796</td>\n",
              "      <td>ZYTC</td>\n",
              "      <td>Zyto Corp</td>\n",
              "      <td>NaN</td>\n",
              "      <td>3841.0</td>\n",
              "    </tr>\n",
              "    <tr>\n",
              "      <th>13735</th>\n",
              "      <td>748015</td>\n",
              "      <td>ZZ</td>\n",
              "      <td>Sealy Corp</td>\n",
              "      <td>NYSE</td>\n",
              "      <td>2510.0</td>\n",
              "    </tr>\n",
              "    <tr>\n",
              "      <th>13736</th>\n",
              "      <td>827830</td>\n",
              "      <td>ZZGQI</td>\n",
              "      <td>Wilder Richman Historic Properties II LP</td>\n",
              "      <td>NaN</td>\n",
              "      <td>6513.0</td>\n",
              "    </tr>\n",
              "  </tbody>\n",
              "</table>\n",
              "<p>13737 rows × 5 columns</p>\n",
              "</div>"
            ],
            "text/plain": [
              "           CIK Ticker  ... Exchange     SIC\n",
              "0      1090872      A  ...     NYSE  3825.0\n",
              "1         4281     AA  ...     NYSE  3350.0\n",
              "2      1332552  AAACU  ...      NaN  6770.0\n",
              "3      1287145   AABB  ...      OTC  8200.0\n",
              "4      1024015   AABC  ...      NaN  6035.0\n",
              "...        ...    ...  ...      ...     ...\n",
              "13732   827056   ZVXI  ...      NaN  3845.0\n",
              "13733   846475   ZYNX  ...      NaN  3845.0\n",
              "13734  1406796   ZYTC  ...      NaN  3841.0\n",
              "13735   748015     ZZ  ...     NYSE  2510.0\n",
              "13736   827830  ZZGQI  ...      NaN  6513.0\n",
              "\n",
              "[13737 rows x 5 columns]"
            ]
          },
          "metadata": {
            "tags": []
          },
          "execution_count": 5
        }
      ]
    },
    {
      "cell_type": "code",
      "metadata": {
        "id": "IgXbhzbxkkqZ",
        "colab_type": "code",
        "outputId": "eb86d558-521d-4bb9-d68a-79d7ee46b33d",
        "colab": {
          "base_uri": "https://localhost:8080/",
          "height": 419
        }
      },
      "source": [
        "df = df[df['CIK'].isin(cik)]\n",
        "df"
      ],
      "execution_count": 0,
      "outputs": [
        {
          "output_type": "execute_result",
          "data": {
            "text/html": [
              "<div>\n",
              "<style scoped>\n",
              "    .dataframe tbody tr th:only-of-type {\n",
              "        vertical-align: middle;\n",
              "    }\n",
              "\n",
              "    .dataframe tbody tr th {\n",
              "        vertical-align: top;\n",
              "    }\n",
              "\n",
              "    .dataframe thead th {\n",
              "        text-align: right;\n",
              "    }\n",
              "</style>\n",
              "<table border=\"1\" class=\"dataframe\">\n",
              "  <thead>\n",
              "    <tr style=\"text-align: right;\">\n",
              "      <th></th>\n",
              "      <th>CIK</th>\n",
              "      <th>Ticker</th>\n",
              "      <th>Name</th>\n",
              "      <th>Exchange</th>\n",
              "      <th>SIC</th>\n",
              "    </tr>\n",
              "  </thead>\n",
              "  <tbody>\n",
              "    <tr>\n",
              "      <th>18</th>\n",
              "      <td>706688</td>\n",
              "      <td>AAN</td>\n",
              "      <td>Aarons Inc</td>\n",
              "      <td>NYSE</td>\n",
              "      <td>7359.0</td>\n",
              "    </tr>\n",
              "    <tr>\n",
              "      <th>24</th>\n",
              "      <td>1158449</td>\n",
              "      <td>AAP</td>\n",
              "      <td>Advance Auto Parts Inc</td>\n",
              "      <td>NYSE</td>\n",
              "      <td>5531.0</td>\n",
              "    </tr>\n",
              "    <tr>\n",
              "      <th>38</th>\n",
              "      <td>825313</td>\n",
              "      <td>AB</td>\n",
              "      <td>Alliancebernstein Holding LP</td>\n",
              "      <td>NYSE</td>\n",
              "      <td>6282.0</td>\n",
              "    </tr>\n",
              "    <tr>\n",
              "      <th>47</th>\n",
              "      <td>351569</td>\n",
              "      <td>ABCB</td>\n",
              "      <td>Ameris Bancorp</td>\n",
              "      <td>NASDAQ</td>\n",
              "      <td>6022.0</td>\n",
              "    </tr>\n",
              "    <tr>\n",
              "      <th>136</th>\n",
              "      <td>1037676</td>\n",
              "      <td>ACI</td>\n",
              "      <td>Arch Coal Inc</td>\n",
              "      <td>NYSE</td>\n",
              "      <td>1221.0</td>\n",
              "    </tr>\n",
              "    <tr>\n",
              "      <th>...</th>\n",
              "      <td>...</td>\n",
              "      <td>...</td>\n",
              "      <td>...</td>\n",
              "      <td>...</td>\n",
              "      <td>...</td>\n",
              "    </tr>\n",
              "    <tr>\n",
              "      <th>13618</th>\n",
              "      <td>1347858</td>\n",
              "      <td>XXII</td>\n",
              "      <td>22ND Century Group Inc</td>\n",
              "      <td>OTCBB</td>\n",
              "      <td>2111.0</td>\n",
              "    </tr>\n",
              "    <tr>\n",
              "      <th>13647</th>\n",
              "      <td>108985</td>\n",
              "      <td>YORW</td>\n",
              "      <td>York Water Co</td>\n",
              "      <td>NASDAQ</td>\n",
              "      <td>4941.0</td>\n",
              "    </tr>\n",
              "    <tr>\n",
              "      <th>13673</th>\n",
              "      <td>877212</td>\n",
              "      <td>ZBRA</td>\n",
              "      <td>Zebra Technologies Corp</td>\n",
              "      <td>NASDAQ</td>\n",
              "      <td>3560.0</td>\n",
              "    </tr>\n",
              "    <tr>\n",
              "      <th>13694</th>\n",
              "      <td>109380</td>\n",
              "      <td>ZION</td>\n",
              "      <td>Zions Bancorporation</td>\n",
              "      <td>NASDAQ</td>\n",
              "      <td>6021.0</td>\n",
              "    </tr>\n",
              "    <tr>\n",
              "      <th>13697</th>\n",
              "      <td>855612</td>\n",
              "      <td>ZIXI</td>\n",
              "      <td>Zix Corp</td>\n",
              "      <td>NASDAQ</td>\n",
              "      <td>7374.0</td>\n",
              "    </tr>\n",
              "  </tbody>\n",
              "</table>\n",
              "<p>864 rows × 5 columns</p>\n",
              "</div>"
            ],
            "text/plain": [
              "           CIK Ticker                          Name Exchange     SIC\n",
              "18      706688    AAN                    Aarons Inc     NYSE  7359.0\n",
              "24     1158449    AAP        Advance Auto Parts Inc     NYSE  5531.0\n",
              "38      825313     AB  Alliancebernstein Holding LP     NYSE  6282.0\n",
              "47      351569   ABCB                Ameris Bancorp   NASDAQ  6022.0\n",
              "136    1037676    ACI                 Arch Coal Inc     NYSE  1221.0\n",
              "...        ...    ...                           ...      ...     ...\n",
              "13618  1347858   XXII        22ND Century Group Inc    OTCBB  2111.0\n",
              "13647   108985   YORW                 York Water Co   NASDAQ  4941.0\n",
              "13673   877212   ZBRA       Zebra Technologies Corp   NASDAQ  3560.0\n",
              "13694   109380   ZION          Zions Bancorporation   NASDAQ  6021.0\n",
              "13697   855612   ZIXI                      Zix Corp   NASDAQ  7374.0\n",
              "\n",
              "[864 rows x 5 columns]"
            ]
          },
          "metadata": {
            "tags": []
          },
          "execution_count": 6
        }
      ]
    },
    {
      "cell_type": "code",
      "metadata": {
        "id": "H7ee5PXF5qX1",
        "colab_type": "code",
        "outputId": "782544f0-a5cd-41a3-ce76-fad3db6b2070",
        "colab": {
          "base_uri": "https://localhost:8080/",
          "height": 476
        }
      },
      "source": [
        "def get_stock_data(x):\n",
        "\n",
        "  try:\n",
        "    company_ticker = yf.Ticker(str(x[\"Ticker\"]))\n",
        "\n",
        "    ## company information\n",
        "    company_info = company_ticker.info\n",
        "    x[\"fullTimeEmployees\"] = int(company_info[\"fullTimeEmployees\"])\n",
        "    x[\"sector\"] = company_info[\"sector\"]\n",
        "    x[\"marketCap\"] = company_info[\"marketCap\"]\n",
        "\n",
        "    ## stock prices\n",
        "    company_stocks = company_ticker.history(start= \"2020-01-30\", end= date.today())\n",
        "    x[\"stock 2020-01-30\"] = company_stocks.iloc[0,3]\n",
        "    x[\"volume 2020-01-30\"] = company_stocks.iloc[0,4]\n",
        "    x[\"stock \" + date.today().strftime(\"%Y-%m-%d\")] = company_stocks.iloc[-1,3] \n",
        "    x[\"volume \" + date.today().strftime(\"%Y-%m-%d\")] = company_stocks.iloc[-1,4]\n",
        "    return x\n",
        "\n",
        "  except: \n",
        "    x[\"fullTimeEmployees\"] = np.nan\n",
        "    x[\"sector\"] = np.nan\n",
        "    return x\n",
        "\n",
        "row_list = []\n",
        "\n",
        "for index, row in tqdm(df.iterrows()):\n",
        "  row_new = get_stock_data(row)\n",
        "  row_list.append(row_new)\n",
        "\n",
        "df_new = pd.DataFrame(row_list)   \n",
        "#df = df.apply(lambda x: get_stock_data(x), axis = 1)"
      ],
      "execution_count": 0,
      "outputs": [
        {
          "output_type": "stream",
          "text": [
            "141it [02:53,  1.67s/it]"
          ],
          "name": "stderr"
        },
        {
          "output_type": "stream",
          "text": [
            "- CHTR: No data found for this date range, symbol may be delisted\n"
          ],
          "name": "stdout"
        },
        {
          "output_type": "stream",
          "text": [
            "151it [03:11,  1.74s/it]"
          ],
          "name": "stderr"
        },
        {
          "output_type": "stream",
          "text": [
            "- CLH: No data found for this date range, symbol may be delisted\n"
          ],
          "name": "stdout"
        },
        {
          "output_type": "stream",
          "text": [
            "\r152it [03:12,  1.69s/it]"
          ],
          "name": "stderr"
        },
        {
          "output_type": "stream",
          "text": [
            "- CLMT: No data found for this date range, symbol may be delisted\n"
          ],
          "name": "stdout"
        },
        {
          "output_type": "stream",
          "text": [
            "201it [04:34,  2.25s/it]"
          ],
          "name": "stderr"
        },
        {
          "output_type": "stream",
          "text": [
            "- CVA: No data found for this date range, symbol may be delisted\n"
          ],
          "name": "stdout"
        },
        {
          "output_type": "stream",
          "text": [
            "218it [05:04,  1.68s/it]"
          ],
          "name": "stderr"
        },
        {
          "output_type": "stream",
          "text": [
            "- CZR: No data found for this date range, symbol may be delisted\n"
          ],
          "name": "stdout"
        },
        {
          "output_type": "stream",
          "text": [
            "\r219it [05:06,  1.68s/it]"
          ],
          "name": "stderr"
        },
        {
          "output_type": "stream",
          "text": [
            "- CZWI: No data found for this date range, symbol may be delisted\n"
          ],
          "name": "stdout"
        },
        {
          "output_type": "stream",
          "text": [
            "283it [06:47,  1.72s/it]"
          ],
          "name": "stderr"
        },
        {
          "output_type": "stream",
          "text": [
            "- FCF: No data found for this date range, symbol may be delisted\n"
          ],
          "name": "stdout"
        },
        {
          "output_type": "stream",
          "text": [
            "313it [07:37,  1.74s/it]"
          ],
          "name": "stderr"
        },
        {
          "output_type": "stream",
          "text": [
            "- FRME: No data found for this date range, symbol may be delisted\n"
          ],
          "name": "stdout"
        },
        {
          "output_type": "stream",
          "text": [
            "356it [08:50,  1.74s/it]"
          ],
          "name": "stderr"
        },
        {
          "output_type": "stream",
          "text": [
            "- HBIA: No data found for this date range, symbol may be delisted\n"
          ],
          "name": "stdout"
        },
        {
          "output_type": "stream",
          "text": [
            "405it [10:11,  1.63s/it]"
          ],
          "name": "stderr"
        },
        {
          "output_type": "stream",
          "text": [
            "- IRBT: No data found for this date range, symbol may be delisted\n"
          ],
          "name": "stdout"
        },
        {
          "output_type": "stream",
          "text": [
            "429it [10:51,  1.56s/it]"
          ],
          "name": "stderr"
        },
        {
          "output_type": "stream",
          "text": [
            "- KEG: No data found for this date range, symbol may be delisted\n"
          ],
          "name": "stdout"
        },
        {
          "output_type": "stream",
          "text": [
            "432it [10:56,  1.74s/it]"
          ],
          "name": "stderr"
        },
        {
          "output_type": "stream",
          "text": [
            "- KKR: No data found for this date range, symbol may be delisted\n"
          ],
          "name": "stdout"
        },
        {
          "output_type": "stream",
          "text": [
            "434it [11:00,  1.72s/it]"
          ],
          "name": "stderr"
        },
        {
          "output_type": "stream",
          "text": [
            "- KMI: No data found for this date range, symbol may be delisted\n"
          ],
          "name": "stdout"
        },
        {
          "output_type": "stream",
          "text": [
            "461it [12:16,  3.92s/it]"
          ],
          "name": "stderr"
        },
        {
          "output_type": "stream",
          "text": [
            "- LQMT: No data found for this date range, symbol may be delisted\n"
          ],
          "name": "stdout"
        },
        {
          "output_type": "stream",
          "text": [
            "486it [12:57,  1.46s/it]"
          ],
          "name": "stderr"
        },
        {
          "output_type": "stream",
          "text": [
            "- MHK: No data found for this date range, symbol may be delisted\n"
          ],
          "name": "stdout"
        },
        {
          "output_type": "stream",
          "text": [
            "488it [13:01,  1.63s/it]"
          ],
          "name": "stderr"
        },
        {
          "output_type": "stream",
          "text": [
            "- MHO: No data found for this date range, symbol may be delisted\n"
          ],
          "name": "stdout"
        },
        {
          "output_type": "stream",
          "text": [
            "505it [13:27,  1.48s/it]"
          ],
          "name": "stderr"
        },
        {
          "output_type": "stream",
          "text": [
            "- MRO: No data found for this date range, symbol may be delisted\n"
          ],
          "name": "stdout"
        },
        {
          "output_type": "stream",
          "text": [
            "534it [14:12,  1.50s/it]"
          ],
          "name": "stderr"
        },
        {
          "output_type": "stream",
          "text": [
            "- NFLX: No data found for this date range, symbol may be delisted\n"
          ],
          "name": "stdout"
        },
        {
          "output_type": "stream",
          "text": [
            "598it [15:57,  1.73s/it]"
          ],
          "name": "stderr"
        },
        {
          "output_type": "stream",
          "text": [
            "- PEBO: No data found for this date range, symbol may be delisted\n"
          ],
          "name": "stdout"
        },
        {
          "output_type": "stream",
          "text": [
            "603it [16:05,  1.70s/it]"
          ],
          "name": "stderr"
        },
        {
          "output_type": "stream",
          "text": [
            "- PFBI: No data found for this date range, symbol may be delisted\n"
          ],
          "name": "stdout"
        },
        {
          "output_type": "stream",
          "text": [
            "622it [16:35,  1.65s/it]"
          ],
          "name": "stderr"
        },
        {
          "output_type": "stream",
          "text": [
            "- PNC: No data found for this date range, symbol may be delisted\n"
          ],
          "name": "stdout"
        },
        {
          "output_type": "stream",
          "text": [
            "630it [16:47,  1.79s/it]"
          ],
          "name": "stderr"
        },
        {
          "output_type": "stream",
          "text": [
            "- PPG: No data found for this date range, symbol may be delisted\n"
          ],
          "name": "stdout"
        },
        {
          "output_type": "stream",
          "text": [
            "672it [17:53,  1.91s/it]"
          ],
          "name": "stderr"
        },
        {
          "output_type": "stream",
          "text": [
            "- SBAC: No data found for this date range, symbol may be delisted\n"
          ],
          "name": "stdout"
        },
        {
          "output_type": "stream",
          "text": [
            "718it [19:05,  1.51s/it]"
          ],
          "name": "stderr"
        },
        {
          "output_type": "stream",
          "text": [
            "- ST: No data found for this date range, symbol may be delisted\n"
          ],
          "name": "stdout"
        },
        {
          "output_type": "stream",
          "text": [
            "763it [20:32,  1.94s/it]"
          ],
          "name": "stderr"
        },
        {
          "output_type": "stream",
          "text": [
            "- TNC: No data found for this date range, symbol may be delisted\n"
          ],
          "name": "stdout"
        },
        {
          "output_type": "stream",
          "text": [
            "808it [21:49,  1.87s/it]"
          ],
          "name": "stderr"
        },
        {
          "output_type": "stream",
          "text": [
            "- UTX: No data found for this date range, symbol may be delisted\n"
          ],
          "name": "stdout"
        },
        {
          "output_type": "stream",
          "text": [
            "864it [23:19,  1.62s/it]\n"
          ],
          "name": "stderr"
        }
      ]
    },
    {
      "cell_type": "code",
      "metadata": {
        "id": "ijjn_iHHKBKt",
        "colab_type": "code",
        "colab": {}
      },
      "source": [
        "df_new.to_csv(\"gdrive/My Drive/sic_stocks.csv\", encoding = 'utf-8', index=False)"
      ],
      "execution_count": 0,
      "outputs": []
    },
    {
      "cell_type": "code",
      "metadata": {
        "id": "NzA-GFCJUlYW",
        "colab_type": "code",
        "colab": {}
      },
      "source": [
        ""
      ],
      "execution_count": 0,
      "outputs": []
    }
  ]
}